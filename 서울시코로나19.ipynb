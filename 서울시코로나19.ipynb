{
 "cells": [
  {
   "cell_type": "markdown",
   "metadata": {
    "colab_type": "text",
    "id": "hQAnjO8AW0VL"
   },
   "source": [
    "# **서울시 코로나19 현황**\n",
    "\n"
   ]
  },
  {
   "cell_type": "code",
   "execution_count": 1,
   "metadata": {
    "colab": {},
    "colab_type": "code",
    "id": "r6IO8ubXSq24"
   },
   "outputs": [],
   "source": [
    "import urllib.request\n",
    "import json\n",
    "import pandas as pd\n",
    "from bs4 import BeautifulSoup"
   ]
  },
  {
   "cell_type": "markdown",
   "metadata": {
    "colab_type": "text",
    "id": "q9dWdmMOXZ5E"
   },
   "source": [
    "## 데이터 불러오기(판다스로 크롤링)"
   ]
  },
  {
   "cell_type": "code",
   "execution_count": 2,
   "metadata": {
    "colab": {
     "base_uri": "https://localhost:8080/",
     "height": 35
    },
    "colab_type": "code",
    "id": "ov0HRVUTXZE-",
    "outputId": "4c83c8fa-6244-4fb6-d183-12341a637b8b"
   },
   "outputs": [
    {
     "data": {
      "text/plain": [
       "'https://www.seoul.go.kr/coronaV/coronaStatus.do'"
      ]
     },
     "execution_count": 2,
     "metadata": {},
     "output_type": "execute_result"
    }
   ],
   "source": [
    "url=\"https://www.seoul.go.kr/coronaV/coronaStatus.do\"\n",
    "url"
   ]
  },
  {
   "cell_type": "code",
   "execution_count": 3,
   "metadata": {
    "colab": {},
    "colab_type": "code",
    "id": "vxBfJdMLa4Cs"
   },
   "outputs": [],
   "source": [
    "# 판다스로 크롤링 가능 #단, table 태그를 볼 수 있을 때만 가능\n",
    "table=pd.read_html(url)"
   ]
  },
  {
   "cell_type": "code",
   "execution_count": 4,
   "metadata": {
    "colab": {
     "base_uri": "https://localhost:8080/",
     "height": 34
    },
    "colab_type": "code",
    "id": "M064l9EqknGT",
    "outputId": "35c5b5f5-d11a-48f5-f284-f34765c6ac8f"
   },
   "outputs": [
    {
     "data": {
      "text/plain": [
       "5"
      ]
     },
     "execution_count": 4,
     "metadata": {},
     "output_type": "execute_result"
    }
   ],
   "source": [
    "len(table)"
   ]
  },
  {
   "cell_type": "code",
   "execution_count": 5,
   "metadata": {
    "colab": {
     "base_uri": "https://localhost:8080/",
     "height": 170
    },
    "colab_type": "code",
    "id": "1sNCqHm0lC07",
    "outputId": "33e296e9-3031-405b-f926-514ad6d5ece1"
   },
   "outputs": [
    {
     "data": {
      "text/html": [
       "<div>\n",
       "<style scoped>\n",
       "    .dataframe tbody tr th:only-of-type {\n",
       "        vertical-align: middle;\n",
       "    }\n",
       "\n",
       "    .dataframe tbody tr th {\n",
       "        vertical-align: top;\n",
       "    }\n",
       "\n",
       "    .dataframe thead th {\n",
       "        text-align: right;\n",
       "    }\n",
       "</style>\n",
       "<table border=\"1\" class=\"dataframe\">\n",
       "  <thead>\n",
       "    <tr style=\"text-align: right;\">\n",
       "      <th></th>\n",
       "      <th>종로구</th>\n",
       "      <th>중구</th>\n",
       "      <th>용산구</th>\n",
       "      <th>성동구</th>\n",
       "      <th>광진구</th>\n",
       "      <th>동대문구</th>\n",
       "      <th>중랑구</th>\n",
       "      <th>성북구</th>\n",
       "      <th>강북구</th>\n",
       "      <th>도봉구</th>\n",
       "      <th>노원구</th>\n",
       "      <th>은평구</th>\n",
       "      <th>서대문구</th>\n",
       "    </tr>\n",
       "  </thead>\n",
       "  <tbody>\n",
       "    <tr>\n",
       "      <th>0</th>\n",
       "      <td>67</td>\n",
       "      <td>54</td>\n",
       "      <td>107</td>\n",
       "      <td>102</td>\n",
       "      <td>110</td>\n",
       "      <td>130</td>\n",
       "      <td>166</td>\n",
       "      <td>300</td>\n",
       "      <td>127</td>\n",
       "      <td>148</td>\n",
       "      <td>263</td>\n",
       "      <td>207</td>\n",
       "      <td>103</td>\n",
       "    </tr>\n",
       "    <tr>\n",
       "      <th>1</th>\n",
       "      <td>마포구</td>\n",
       "      <td>양천구</td>\n",
       "      <td>강서구</td>\n",
       "      <td>구로구</td>\n",
       "      <td>금천구</td>\n",
       "      <td>영등포구</td>\n",
       "      <td>동작구</td>\n",
       "      <td>관악구</td>\n",
       "      <td>서초구</td>\n",
       "      <td>강남구</td>\n",
       "      <td>송파구</td>\n",
       "      <td>강동구</td>\n",
       "      <td>기타</td>\n",
       "    </tr>\n",
       "    <tr>\n",
       "      <th>2</th>\n",
       "      <td>142</td>\n",
       "      <td>158</td>\n",
       "      <td>233</td>\n",
       "      <td>152</td>\n",
       "      <td>78</td>\n",
       "      <td>152</td>\n",
       "      <td>187</td>\n",
       "      <td>289</td>\n",
       "      <td>157</td>\n",
       "      <td>210</td>\n",
       "      <td>272</td>\n",
       "      <td>167</td>\n",
       "      <td>281</td>\n",
       "    </tr>\n",
       "  </tbody>\n",
       "</table>\n",
       "</div>"
      ],
      "text/plain": [
       "   종로구   중구  용산구  성동구  광진구  동대문구  중랑구  성북구  강북구  도봉구  노원구  은평구 서대문구\n",
       "0   67   54  107  102  110   130  166  300  127  148  263  207  103\n",
       "1  마포구  양천구  강서구  구로구  금천구  영등포구  동작구  관악구  서초구  강남구  송파구  강동구   기타\n",
       "2  142  158  233  152   78   152  187  289  157  210  272  167  281"
      ]
     },
     "execution_count": 5,
     "metadata": {},
     "output_type": "execute_result"
    }
   ],
   "source": [
    "table[0]"
   ]
  },
  {
   "cell_type": "code",
   "execution_count": 6,
   "metadata": {
    "colab": {
     "base_uri": "https://localhost:8080/",
     "height": 432
    },
    "colab_type": "code",
    "id": "7nPdeBLil40z",
    "outputId": "25986e40-1e1a-449e-94de-4ac7a457003a"
   },
   "outputs": [
    {
     "data": {
      "text/html": [
       "<div>\n",
       "<style scoped>\n",
       "    .dataframe tbody tr th:only-of-type {\n",
       "        vertical-align: middle;\n",
       "    }\n",
       "\n",
       "    .dataframe tbody tr th {\n",
       "        vertical-align: top;\n",
       "    }\n",
       "\n",
       "    .dataframe thead th {\n",
       "        text-align: right;\n",
       "    }\n",
       "</style>\n",
       "<table border=\"1\" class=\"dataframe\">\n",
       "  <thead>\n",
       "    <tr style=\"text-align: right;\">\n",
       "      <th></th>\n",
       "      <th>0</th>\n",
       "      <th>1</th>\n",
       "      <th>2</th>\n",
       "    </tr>\n",
       "  </thead>\n",
       "  <tbody>\n",
       "    <tr>\n",
       "      <th>종로구</th>\n",
       "      <td>67</td>\n",
       "      <td>마포구</td>\n",
       "      <td>142</td>\n",
       "    </tr>\n",
       "    <tr>\n",
       "      <th>중구</th>\n",
       "      <td>54</td>\n",
       "      <td>양천구</td>\n",
       "      <td>158</td>\n",
       "    </tr>\n",
       "    <tr>\n",
       "      <th>용산구</th>\n",
       "      <td>107</td>\n",
       "      <td>강서구</td>\n",
       "      <td>233</td>\n",
       "    </tr>\n",
       "    <tr>\n",
       "      <th>성동구</th>\n",
       "      <td>102</td>\n",
       "      <td>구로구</td>\n",
       "      <td>152</td>\n",
       "    </tr>\n",
       "    <tr>\n",
       "      <th>광진구</th>\n",
       "      <td>110</td>\n",
       "      <td>금천구</td>\n",
       "      <td>78</td>\n",
       "    </tr>\n",
       "    <tr>\n",
       "      <th>동대문구</th>\n",
       "      <td>130</td>\n",
       "      <td>영등포구</td>\n",
       "      <td>152</td>\n",
       "    </tr>\n",
       "    <tr>\n",
       "      <th>중랑구</th>\n",
       "      <td>166</td>\n",
       "      <td>동작구</td>\n",
       "      <td>187</td>\n",
       "    </tr>\n",
       "    <tr>\n",
       "      <th>성북구</th>\n",
       "      <td>300</td>\n",
       "      <td>관악구</td>\n",
       "      <td>289</td>\n",
       "    </tr>\n",
       "    <tr>\n",
       "      <th>강북구</th>\n",
       "      <td>127</td>\n",
       "      <td>서초구</td>\n",
       "      <td>157</td>\n",
       "    </tr>\n",
       "    <tr>\n",
       "      <th>도봉구</th>\n",
       "      <td>148</td>\n",
       "      <td>강남구</td>\n",
       "      <td>210</td>\n",
       "    </tr>\n",
       "    <tr>\n",
       "      <th>노원구</th>\n",
       "      <td>263</td>\n",
       "      <td>송파구</td>\n",
       "      <td>272</td>\n",
       "    </tr>\n",
       "    <tr>\n",
       "      <th>은평구</th>\n",
       "      <td>207</td>\n",
       "      <td>강동구</td>\n",
       "      <td>167</td>\n",
       "    </tr>\n",
       "    <tr>\n",
       "      <th>서대문구</th>\n",
       "      <td>103</td>\n",
       "      <td>기타</td>\n",
       "      <td>281</td>\n",
       "    </tr>\n",
       "  </tbody>\n",
       "</table>\n",
       "</div>"
      ],
      "text/plain": [
       "        0     1    2\n",
       "종로구    67   마포구  142\n",
       "중구     54   양천구  158\n",
       "용산구   107   강서구  233\n",
       "성동구   102   구로구  152\n",
       "광진구   110   금천구   78\n",
       "동대문구  130  영등포구  152\n",
       "중랑구   166   동작구  187\n",
       "성북구   300   관악구  289\n",
       "강북구   127   서초구  157\n",
       "도봉구   148   강남구  210\n",
       "노원구   263   송파구  272\n",
       "은평구   207   강동구  167\n",
       "서대문구  103    기타  281"
      ]
     },
     "execution_count": 6,
     "metadata": {},
     "output_type": "execute_result"
    }
   ],
   "source": [
    "# transpose() 행렬 전환 \n",
    "# 또는 .T\n",
    "table[0].transpose()"
   ]
  },
  {
   "cell_type": "code",
   "execution_count": 7,
   "metadata": {
    "colab": {
     "base_uri": "https://localhost:8080/",
     "height": 669
    },
    "colab_type": "code",
    "id": "_GInYOl5mAtV",
    "outputId": "298429b2-19d4-4856-8686-eb61bb8aae79"
   },
   "outputs": [
    {
     "data": {
      "text/html": [
       "<div>\n",
       "<style scoped>\n",
       "    .dataframe tbody tr th:only-of-type {\n",
       "        vertical-align: middle;\n",
       "    }\n",
       "\n",
       "    .dataframe tbody tr th {\n",
       "        vertical-align: top;\n",
       "    }\n",
       "\n",
       "    .dataframe thead th {\n",
       "        text-align: right;\n",
       "    }\n",
       "</style>\n",
       "<table border=\"1\" class=\"dataframe\">\n",
       "  <thead>\n",
       "    <tr style=\"text-align: right;\">\n",
       "      <th></th>\n",
       "      <th>0</th>\n",
       "    </tr>\n",
       "  </thead>\n",
       "  <tbody>\n",
       "    <tr>\n",
       "      <th>소계</th>\n",
       "      <td>4362</td>\n",
       "    </tr>\n",
       "    <tr>\n",
       "      <th>해외접촉관련</th>\n",
       "      <td>394</td>\n",
       "    </tr>\n",
       "    <tr>\n",
       "      <th>노원구 빛가온 교회</th>\n",
       "      <td>43</td>\n",
       "    </tr>\n",
       "    <tr>\n",
       "      <th>영등포구 지인 모임</th>\n",
       "      <td>7</td>\n",
       "    </tr>\n",
       "    <tr>\n",
       "      <th>강동구 소재 콜센터</th>\n",
       "      <td>18</td>\n",
       "    </tr>\n",
       "    <tr>\n",
       "      <th>관악구 가족 모임</th>\n",
       "      <td>5</td>\n",
       "    </tr>\n",
       "    <tr>\n",
       "      <th>송파구 소재 병원</th>\n",
       "      <td>8</td>\n",
       "    </tr>\n",
       "    <tr>\n",
       "      <th>송파구 소재 물류센터</th>\n",
       "      <td>5</td>\n",
       "    </tr>\n",
       "    <tr>\n",
       "      <th>8.15 서울도심 집회</th>\n",
       "      <td>122</td>\n",
       "    </tr>\n",
       "    <tr>\n",
       "      <th>극단 산 관련</th>\n",
       "      <td>37</td>\n",
       "    </tr>\n",
       "    <tr>\n",
       "      <th>은평구 헤어콕 관련</th>\n",
       "      <td>10</td>\n",
       "    </tr>\n",
       "    <tr>\n",
       "      <th>광진구 소재 병원</th>\n",
       "      <td>18</td>\n",
       "    </tr>\n",
       "    <tr>\n",
       "      <th>동작구 카드발급 업체</th>\n",
       "      <td>28</td>\n",
       "    </tr>\n",
       "    <tr>\n",
       "      <th>영등포구 권능 교회</th>\n",
       "      <td>18</td>\n",
       "    </tr>\n",
       "    <tr>\n",
       "      <th>노원구 기도 모임</th>\n",
       "      <td>9</td>\n",
       "    </tr>\n",
       "    <tr>\n",
       "      <th>성북구 사랑제일교회</th>\n",
       "      <td>639</td>\n",
       "    </tr>\n",
       "    <tr>\n",
       "      <th>성북구 체대 입시</th>\n",
       "      <td>43</td>\n",
       "    </tr>\n",
       "    <tr>\n",
       "      <th>동작구 서울 신학교</th>\n",
       "      <td>32</td>\n",
       "    </tr>\n",
       "    <tr>\n",
       "      <th>타 시·도 확진자 접촉자</th>\n",
       "      <td>169</td>\n",
       "    </tr>\n",
       "    <tr>\n",
       "      <th>기타</th>\n",
       "      <td>2028</td>\n",
       "    </tr>\n",
       "    <tr>\n",
       "      <th>경로 확인중</th>\n",
       "      <td>729</td>\n",
       "    </tr>\n",
       "  </tbody>\n",
       "</table>\n",
       "</div>"
      ],
      "text/plain": [
       "                  0\n",
       "소계             4362\n",
       "해외접촉관련          394\n",
       "노원구 빛가온 교회       43\n",
       "영등포구 지인 모임        7\n",
       "강동구 소재 콜센터       18\n",
       "관악구 가족 모임         5\n",
       "송파구 소재 병원         8\n",
       "송파구 소재 물류센터       5\n",
       "8.15 서울도심 집회    122\n",
       "극단 산 관련          37\n",
       "은평구 헤어콕 관련       10\n",
       "광진구 소재 병원        18\n",
       "동작구 카드발급 업체      28\n",
       "영등포구 권능 교회       18\n",
       "노원구 기도 모임         9\n",
       "성북구 사랑제일교회      639\n",
       "성북구 체대 입시        43\n",
       "동작구 서울 신학교       32\n",
       "타 시·도 확진자 접촉자   169\n",
       "기타             2028\n",
       "경로 확인중          729"
      ]
     },
     "execution_count": 7,
     "metadata": {},
     "output_type": "execute_result"
    }
   ],
   "source": [
    "#9월 6일 기준 서울시 확진자 수\n",
    "table[2].T"
   ]
  },
  {
   "cell_type": "code",
   "execution_count": 8,
   "metadata": {
    "colab": {
     "base_uri": "https://localhost:8080/",
     "height": 402
    },
    "colab_type": "code",
    "id": "i-61_WMJmuJ-",
    "outputId": "f405649e-1288-47d0-b85d-951022039464"
   },
   "outputs": [
    {
     "data": {
      "text/html": [
       "<div>\n",
       "<style scoped>\n",
       "    .dataframe tbody tr th:only-of-type {\n",
       "        vertical-align: middle;\n",
       "    }\n",
       "\n",
       "    .dataframe tbody tr th {\n",
       "        vertical-align: top;\n",
       "    }\n",
       "\n",
       "    .dataframe thead th {\n",
       "        text-align: right;\n",
       "    }\n",
       "</style>\n",
       "<table border=\"1\" class=\"dataframe\">\n",
       "  <thead>\n",
       "    <tr style=\"text-align: right;\">\n",
       "      <th></th>\n",
       "      <th>연번</th>\n",
       "      <th>환자</th>\n",
       "      <th>확진일</th>\n",
       "      <th>거주지</th>\n",
       "      <th>여행력</th>\n",
       "      <th>접촉력</th>\n",
       "      <th>퇴원현황</th>\n",
       "    </tr>\n",
       "  </thead>\n",
       "  <tbody>\n",
       "    <tr>\n",
       "      <th>0</th>\n",
       "      <td>4362</td>\n",
       "      <td>21267</td>\n",
       "      <td>09.06.</td>\n",
       "      <td>양천구</td>\n",
       "      <td>-</td>\n",
       "      <td>영등포 지인모임</td>\n",
       "      <td>NaN</td>\n",
       "    </tr>\n",
       "    <tr>\n",
       "      <th>1</th>\n",
       "      <td>4361</td>\n",
       "      <td>미부여</td>\n",
       "      <td>09.06.</td>\n",
       "      <td>영등포구</td>\n",
       "      <td>-</td>\n",
       "      <td>확인 중</td>\n",
       "      <td>NaN</td>\n",
       "    </tr>\n",
       "    <tr>\n",
       "      <th>2</th>\n",
       "      <td>4360</td>\n",
       "      <td>미부여</td>\n",
       "      <td>09.06.</td>\n",
       "      <td>성북구</td>\n",
       "      <td>-</td>\n",
       "      <td>확인 중</td>\n",
       "      <td>NaN</td>\n",
       "    </tr>\n",
       "    <tr>\n",
       "      <th>3</th>\n",
       "      <td>4359</td>\n",
       "      <td>미부여</td>\n",
       "      <td>09.06.</td>\n",
       "      <td>도봉구</td>\n",
       "      <td>-</td>\n",
       "      <td>확인 중</td>\n",
       "      <td>NaN</td>\n",
       "    </tr>\n",
       "    <tr>\n",
       "      <th>4</th>\n",
       "      <td>4358</td>\n",
       "      <td>미부여</td>\n",
       "      <td>09.06.</td>\n",
       "      <td>강북구</td>\n",
       "      <td>-</td>\n",
       "      <td>확인 중</td>\n",
       "      <td>NaN</td>\n",
       "    </tr>\n",
       "    <tr>\n",
       "      <th>...</th>\n",
       "      <td>...</td>\n",
       "      <td>...</td>\n",
       "      <td>...</td>\n",
       "      <td>...</td>\n",
       "      <td>...</td>\n",
       "      <td>...</td>\n",
       "      <td>...</td>\n",
       "    </tr>\n",
       "    <tr>\n",
       "      <th>4357</th>\n",
       "      <td>5</td>\n",
       "      <td>9</td>\n",
       "      <td>1.31.</td>\n",
       "      <td>성북구</td>\n",
       "      <td>-</td>\n",
       "      <td>#5 접촉</td>\n",
       "      <td>퇴원</td>\n",
       "    </tr>\n",
       "    <tr>\n",
       "      <th>4358</th>\n",
       "      <td>4</td>\n",
       "      <td>7</td>\n",
       "      <td>1.30.</td>\n",
       "      <td>마포구</td>\n",
       "      <td>중국 우한시</td>\n",
       "      <td>해외 접촉</td>\n",
       "      <td>퇴원</td>\n",
       "    </tr>\n",
       "    <tr>\n",
       "      <th>4359</th>\n",
       "      <td>3</td>\n",
       "      <td>6</td>\n",
       "      <td>1.30.</td>\n",
       "      <td>종로구</td>\n",
       "      <td>-</td>\n",
       "      <td>#3 접촉</td>\n",
       "      <td>퇴원</td>\n",
       "    </tr>\n",
       "    <tr>\n",
       "      <th>4360</th>\n",
       "      <td>2</td>\n",
       "      <td>5</td>\n",
       "      <td>1.30.</td>\n",
       "      <td>중랑구</td>\n",
       "      <td>중국 우한시</td>\n",
       "      <td>해외 접촉</td>\n",
       "      <td>퇴원</td>\n",
       "    </tr>\n",
       "    <tr>\n",
       "      <th>4361</th>\n",
       "      <td>1</td>\n",
       "      <td>2</td>\n",
       "      <td>1.24.</td>\n",
       "      <td>강서구</td>\n",
       "      <td>중국 우한시</td>\n",
       "      <td>해외 접촉</td>\n",
       "      <td>퇴원</td>\n",
       "    </tr>\n",
       "  </tbody>\n",
       "</table>\n",
       "<p>4362 rows × 7 columns</p>\n",
       "</div>"
      ],
      "text/plain": [
       "        연번     환자     확진일   거주지     여행력       접촉력 퇴원현황\n",
       "0     4362  21267  09.06.   양천구       -  영등포 지인모임  NaN\n",
       "1     4361    미부여  09.06.  영등포구       -      확인 중  NaN\n",
       "2     4360    미부여  09.06.   성북구       -      확인 중  NaN\n",
       "3     4359    미부여  09.06.   도봉구       -      확인 중  NaN\n",
       "4     4358    미부여  09.06.   강북구       -      확인 중  NaN\n",
       "...    ...    ...     ...   ...     ...       ...  ...\n",
       "4357     5      9   1.31.   성북구       -     #5 접촉   퇴원\n",
       "4358     4      7   1.30.   마포구  중국 우한시     해외 접촉   퇴원\n",
       "4359     3      6   1.30.   종로구       -     #3 접촉   퇴원\n",
       "4360     2      5   1.30.   중랑구  중국 우한시     해외 접촉   퇴원\n",
       "4361     1      2   1.24.   강서구  중국 우한시     해외 접촉   퇴원\n",
       "\n",
       "[4362 rows x 7 columns]"
      ]
     },
     "execution_count": 8,
     "metadata": {},
     "output_type": "execute_result"
    }
   ],
   "source": [
    "table[3]"
   ]
  },
  {
   "cell_type": "code",
   "execution_count": 9,
   "metadata": {
    "colab": {
     "base_uri": "https://localhost:8080/",
     "height": 586
    },
    "colab_type": "code",
    "id": "dMKhzVDXnrbA",
    "outputId": "1015f1be-a744-423d-da7b-0a5c7a46f16b"
   },
   "outputs": [
    {
     "data": {
      "text/html": [
       "<div>\n",
       "<style scoped>\n",
       "    .dataframe tbody tr th:only-of-type {\n",
       "        vertical-align: middle;\n",
       "    }\n",
       "\n",
       "    .dataframe tbody tr th {\n",
       "        vertical-align: top;\n",
       "    }\n",
       "\n",
       "    .dataframe thead th {\n",
       "        text-align: right;\n",
       "    }\n",
       "</style>\n",
       "<table border=\"1\" class=\"dataframe\">\n",
       "  <thead>\n",
       "    <tr style=\"text-align: right;\">\n",
       "      <th></th>\n",
       "      <th>연번</th>\n",
       "      <th>환자번호</th>\n",
       "      <th>감염경로</th>\n",
       "      <th>확진일</th>\n",
       "      <th>거주지</th>\n",
       "      <th>퇴원현황</th>\n",
       "    </tr>\n",
       "  </thead>\n",
       "  <tbody>\n",
       "    <tr>\n",
       "      <th>0</th>\n",
       "      <td>4362  &lt;tr&gt;  &lt;td class=\"tdl\" colspan=\"5\"&gt;  &lt;p&gt;확...</td>\n",
       "      <td>21267</td>\n",
       "      <td>영등포 지인모임</td>\n",
       "      <td>09/06</td>\n",
       "      <td>양천구</td>\n",
       "      <td>NaN</td>\n",
       "    </tr>\n",
       "    <tr>\n",
       "      <th>1</th>\n",
       "      <td>4361  &lt;tr&gt;  &lt;td class=\"tdl\" colspan=\"5\"&gt;  &lt;p&gt;확...</td>\n",
       "      <td>미부여</td>\n",
       "      <td>확인 중</td>\n",
       "      <td>09/06</td>\n",
       "      <td>영등포구</td>\n",
       "      <td>NaN</td>\n",
       "    </tr>\n",
       "    <tr>\n",
       "      <th>2</th>\n",
       "      <td>4360  &lt;tr&gt;  &lt;td class=\"tdl\" colspan=\"5\"&gt;  &lt;p&gt;확...</td>\n",
       "      <td>미부여</td>\n",
       "      <td>확인 중</td>\n",
       "      <td>09/06</td>\n",
       "      <td>성북구</td>\n",
       "      <td>NaN</td>\n",
       "    </tr>\n",
       "    <tr>\n",
       "      <th>3</th>\n",
       "      <td>4359  &lt;tr&gt;  &lt;td class=\"tdl\" colspan=\"5\"&gt;  &lt;p&gt;확...</td>\n",
       "      <td>미부여</td>\n",
       "      <td>확인 중</td>\n",
       "      <td>09/06</td>\n",
       "      <td>도봉구</td>\n",
       "      <td>NaN</td>\n",
       "    </tr>\n",
       "    <tr>\n",
       "      <th>4</th>\n",
       "      <td>4358  &lt;tr&gt;  &lt;td class=\"tdl\" colspan=\"5\"&gt;  &lt;p&gt;확...</td>\n",
       "      <td>미부여</td>\n",
       "      <td>확인 중</td>\n",
       "      <td>09/06</td>\n",
       "      <td>강북구</td>\n",
       "      <td>NaN</td>\n",
       "    </tr>\n",
       "    <tr>\n",
       "      <th>...</th>\n",
       "      <td>...</td>\n",
       "      <td>...</td>\n",
       "      <td>...</td>\n",
       "      <td>...</td>\n",
       "      <td>...</td>\n",
       "      <td>...</td>\n",
       "    </tr>\n",
       "    <tr>\n",
       "      <th>4357</th>\n",
       "      <td>5  &lt;tr&gt;  &lt;td class=\"tdl\" colspan=\"5\"&gt;  &lt;p&gt;이동경로...</td>\n",
       "      <td>9</td>\n",
       "      <td>#5 접촉</td>\n",
       "      <td>1/31</td>\n",
       "      <td>성북구</td>\n",
       "      <td>퇴원</td>\n",
       "    </tr>\n",
       "    <tr>\n",
       "      <th>4358</th>\n",
       "      <td>4  &lt;tr&gt;  &lt;td class=\"tdl\" colspan=\"5\"&gt;  &lt;p&gt;이동경로...</td>\n",
       "      <td>7</td>\n",
       "      <td>해외 접촉(중국 우한시)</td>\n",
       "      <td>1/30</td>\n",
       "      <td>마포구</td>\n",
       "      <td>퇴원</td>\n",
       "    </tr>\n",
       "    <tr>\n",
       "      <th>4359</th>\n",
       "      <td>3  &lt;tr&gt;  &lt;td class=\"tdl\" colspan=\"5\"&gt;  &lt;p&gt;이동경로...</td>\n",
       "      <td>6</td>\n",
       "      <td>#3 접촉</td>\n",
       "      <td>1/30</td>\n",
       "      <td>종로구</td>\n",
       "      <td>퇴원</td>\n",
       "    </tr>\n",
       "    <tr>\n",
       "      <th>4360</th>\n",
       "      <td>2  &lt;tr&gt;  &lt;td class=\"tdl\" colspan=\"5\"&gt;  &lt;p&gt;이동경로...</td>\n",
       "      <td>5</td>\n",
       "      <td>해외 접촉(중국 우한시)</td>\n",
       "      <td>1/30</td>\n",
       "      <td>중랑구</td>\n",
       "      <td>퇴원</td>\n",
       "    </tr>\n",
       "    <tr>\n",
       "      <th>4361</th>\n",
       "      <td>1  &lt;tr&gt;  &lt;td class=\"tdl\" colspan=\"5\"&gt;  &lt;p&gt;이동경로...</td>\n",
       "      <td>2</td>\n",
       "      <td>해외 접촉(중국 우한시)</td>\n",
       "      <td>1/24</td>\n",
       "      <td>강서구</td>\n",
       "      <td>퇴원</td>\n",
       "    </tr>\n",
       "  </tbody>\n",
       "</table>\n",
       "<p>4362 rows × 6 columns</p>\n",
       "</div>"
      ],
      "text/plain": [
       "                                                     연번   환자번호           감염경로  \\\n",
       "0     4362  <tr>  <td class=\"tdl\" colspan=\"5\">  <p>확...  21267       영등포 지인모임   \n",
       "1     4361  <tr>  <td class=\"tdl\" colspan=\"5\">  <p>확...    미부여           확인 중   \n",
       "2     4360  <tr>  <td class=\"tdl\" colspan=\"5\">  <p>확...    미부여           확인 중   \n",
       "3     4359  <tr>  <td class=\"tdl\" colspan=\"5\">  <p>확...    미부여           확인 중   \n",
       "4     4358  <tr>  <td class=\"tdl\" colspan=\"5\">  <p>확...    미부여           확인 중   \n",
       "...                                                 ...    ...            ...   \n",
       "4357  5  <tr>  <td class=\"tdl\" colspan=\"5\">  <p>이동경로...      9          #5 접촉   \n",
       "4358  4  <tr>  <td class=\"tdl\" colspan=\"5\">  <p>이동경로...      7  해외 접촉(중국 우한시)   \n",
       "4359  3  <tr>  <td class=\"tdl\" colspan=\"5\">  <p>이동경로...      6          #3 접촉   \n",
       "4360  2  <tr>  <td class=\"tdl\" colspan=\"5\">  <p>이동경로...      5  해외 접촉(중국 우한시)   \n",
       "4361  1  <tr>  <td class=\"tdl\" colspan=\"5\">  <p>이동경로...      2  해외 접촉(중국 우한시)   \n",
       "\n",
       "        확진일   거주지 퇴원현황  \n",
       "0     09/06   양천구  NaN  \n",
       "1     09/06  영등포구  NaN  \n",
       "2     09/06   성북구  NaN  \n",
       "3     09/06   도봉구  NaN  \n",
       "4     09/06   강북구  NaN  \n",
       "...     ...   ...  ...  \n",
       "4357   1/31   성북구   퇴원  \n",
       "4358   1/30   마포구   퇴원  \n",
       "4359   1/30   종로구   퇴원  \n",
       "4360   1/30   중랑구   퇴원  \n",
       "4361   1/24   강서구   퇴원  \n",
       "\n",
       "[4362 rows x 6 columns]"
      ]
     },
     "execution_count": 9,
     "metadata": {},
     "output_type": "execute_result"
    }
   ],
   "source": [
    "table[4]"
   ]
  },
  {
   "cell_type": "code",
   "execution_count": 10,
   "metadata": {
    "colab": {
     "base_uri": "https://localhost:8080/",
     "height": 195
    },
    "colab_type": "code",
    "id": "0e4h6eo_n8uQ",
    "outputId": "a6cb88b0-0a2f-4199-d495-5c3e95a3c374"
   },
   "outputs": [
    {
     "data": {
      "text/html": [
       "<div>\n",
       "<style scoped>\n",
       "    .dataframe tbody tr th:only-of-type {\n",
       "        vertical-align: middle;\n",
       "    }\n",
       "\n",
       "    .dataframe tbody tr th {\n",
       "        vertical-align: top;\n",
       "    }\n",
       "\n",
       "    .dataframe thead th {\n",
       "        text-align: right;\n",
       "    }\n",
       "</style>\n",
       "<table border=\"1\" class=\"dataframe\">\n",
       "  <thead>\n",
       "    <tr style=\"text-align: right;\">\n",
       "      <th></th>\n",
       "      <th>연번</th>\n",
       "      <th>환자</th>\n",
       "      <th>확진일</th>\n",
       "      <th>거주지</th>\n",
       "      <th>여행력</th>\n",
       "      <th>접촉력</th>\n",
       "      <th>퇴원현황</th>\n",
       "    </tr>\n",
       "  </thead>\n",
       "  <tbody>\n",
       "    <tr>\n",
       "      <th>0</th>\n",
       "      <td>4362</td>\n",
       "      <td>21267</td>\n",
       "      <td>09.06.</td>\n",
       "      <td>양천구</td>\n",
       "      <td>-</td>\n",
       "      <td>영등포 지인모임</td>\n",
       "      <td>NaN</td>\n",
       "    </tr>\n",
       "    <tr>\n",
       "      <th>1</th>\n",
       "      <td>4361</td>\n",
       "      <td>미부여</td>\n",
       "      <td>09.06.</td>\n",
       "      <td>영등포구</td>\n",
       "      <td>-</td>\n",
       "      <td>확인 중</td>\n",
       "      <td>NaN</td>\n",
       "    </tr>\n",
       "    <tr>\n",
       "      <th>2</th>\n",
       "      <td>4360</td>\n",
       "      <td>미부여</td>\n",
       "      <td>09.06.</td>\n",
       "      <td>성북구</td>\n",
       "      <td>-</td>\n",
       "      <td>확인 중</td>\n",
       "      <td>NaN</td>\n",
       "    </tr>\n",
       "    <tr>\n",
       "      <th>3</th>\n",
       "      <td>4359</td>\n",
       "      <td>미부여</td>\n",
       "      <td>09.06.</td>\n",
       "      <td>도봉구</td>\n",
       "      <td>-</td>\n",
       "      <td>확인 중</td>\n",
       "      <td>NaN</td>\n",
       "    </tr>\n",
       "    <tr>\n",
       "      <th>4</th>\n",
       "      <td>4358</td>\n",
       "      <td>미부여</td>\n",
       "      <td>09.06.</td>\n",
       "      <td>강북구</td>\n",
       "      <td>-</td>\n",
       "      <td>확인 중</td>\n",
       "      <td>NaN</td>\n",
       "    </tr>\n",
       "  </tbody>\n",
       "</table>\n",
       "</div>"
      ],
      "text/plain": [
       "     연번     환자     확진일   거주지 여행력       접촉력 퇴원현황\n",
       "0  4362  21267  09.06.   양천구   -  영등포 지인모임  NaN\n",
       "1  4361    미부여  09.06.  영등포구   -      확인 중  NaN\n",
       "2  4360    미부여  09.06.   성북구   -      확인 중  NaN\n",
       "3  4359    미부여  09.06.   도봉구   -      확인 중  NaN\n",
       "4  4358    미부여  09.06.   강북구   -      확인 중  NaN"
      ]
     },
     "execution_count": 10,
     "metadata": {},
     "output_type": "execute_result"
    }
   ],
   "source": [
    "df=table[3]\n",
    "df.head()"
   ]
  },
  {
   "cell_type": "code",
   "execution_count": 11,
   "metadata": {
    "colab": {
     "base_uri": "https://localhost:8080/",
     "height": 35
    },
    "colab_type": "code",
    "id": "Pmiudjyun_PF",
    "outputId": "7e412e72-616f-4c8b-b8fe-d8e15a2236bf"
   },
   "outputs": [
    {
     "data": {
      "text/plain": [
       "'09.06.'"
      ]
     },
     "execution_count": 11,
     "metadata": {},
     "output_type": "execute_result"
    }
   ],
   "source": [
    "# 확진일을 기준으로 파일 저장\n",
    "\n",
    "last_day=df.loc[0,'확진일']\n",
    "last_day"
   ]
  },
  {
   "cell_type": "code",
   "execution_count": 12,
   "metadata": {
    "colab": {
     "base_uri": "https://localhost:8080/",
     "height": 35
    },
    "colab_type": "code",
    "id": "aGxQG6KVonbT",
    "outputId": "322afe81-2018-41c9-ef4e-8e82f7ec96fc"
   },
   "outputs": [
    {
     "data": {
      "text/plain": [
       "'09_06_'"
      ]
     },
     "execution_count": 12,
     "metadata": {},
     "output_type": "execute_result"
    }
   ],
   "source": [
    "#확장자와 구분이 쉽게 '.'을 _로 변경\n",
    "last_day=last_day.replace(\".\",\"_\")\n",
    "last_day"
   ]
  },
  {
   "cell_type": "code",
   "execution_count": 13,
   "metadata": {
    "colab": {
     "base_uri": "https://localhost:8080/",
     "height": 35
    },
    "colab_type": "code",
    "id": "hkldA6StpMpA",
    "outputId": "bbefbecf-2354-4d76-cdbf-d6ccd861a54e"
   },
   "outputs": [
    {
     "data": {
      "text/plain": [
       "'seoul-covid19_09_06_.csv'"
      ]
     },
     "execution_count": 13,
     "metadata": {},
     "output_type": "execute_result"
    }
   ],
   "source": [
    "#파일명 만들어 주기\n",
    "file_name=f\"seoul-covid19_{last_day}.csv\"\n",
    "file_name"
   ]
  },
  {
   "cell_type": "code",
   "execution_count": 14,
   "metadata": {
    "colab": {},
    "colab_type": "code",
    "id": "mktynK3bpZ3C"
   },
   "outputs": [],
   "source": [
    "#csv 파일 저장\n",
    "#index=False 인덱스는 저장하지 않는다.\n",
    "# unnamed = df의 인덱스 번호로 중복되기 때문\n",
    "df.to_csv(file_name, index=False)"
   ]
  },
  {
   "cell_type": "code",
   "execution_count": 15,
   "metadata": {
    "colab": {
     "base_uri": "https://localhost:8080/",
     "height": 402
    },
    "colab_type": "code",
    "id": "6iEEPHtJppwq",
    "outputId": "c69f030e-353d-4680-dad1-1505bc1817b3"
   },
   "outputs": [
    {
     "data": {
      "text/html": [
       "<div>\n",
       "<style scoped>\n",
       "    .dataframe tbody tr th:only-of-type {\n",
       "        vertical-align: middle;\n",
       "    }\n",
       "\n",
       "    .dataframe tbody tr th {\n",
       "        vertical-align: top;\n",
       "    }\n",
       "\n",
       "    .dataframe thead th {\n",
       "        text-align: right;\n",
       "    }\n",
       "</style>\n",
       "<table border=\"1\" class=\"dataframe\">\n",
       "  <thead>\n",
       "    <tr style=\"text-align: right;\">\n",
       "      <th></th>\n",
       "      <th>연번</th>\n",
       "      <th>환자</th>\n",
       "      <th>확진일</th>\n",
       "      <th>거주지</th>\n",
       "      <th>여행력</th>\n",
       "      <th>접촉력</th>\n",
       "      <th>퇴원현황</th>\n",
       "    </tr>\n",
       "  </thead>\n",
       "  <tbody>\n",
       "    <tr>\n",
       "      <th>0</th>\n",
       "      <td>4362</td>\n",
       "      <td>21267</td>\n",
       "      <td>09.06.</td>\n",
       "      <td>양천구</td>\n",
       "      <td>-</td>\n",
       "      <td>영등포 지인모임</td>\n",
       "      <td>NaN</td>\n",
       "    </tr>\n",
       "    <tr>\n",
       "      <th>1</th>\n",
       "      <td>4361</td>\n",
       "      <td>미부여</td>\n",
       "      <td>09.06.</td>\n",
       "      <td>영등포구</td>\n",
       "      <td>-</td>\n",
       "      <td>확인 중</td>\n",
       "      <td>NaN</td>\n",
       "    </tr>\n",
       "    <tr>\n",
       "      <th>2</th>\n",
       "      <td>4360</td>\n",
       "      <td>미부여</td>\n",
       "      <td>09.06.</td>\n",
       "      <td>성북구</td>\n",
       "      <td>-</td>\n",
       "      <td>확인 중</td>\n",
       "      <td>NaN</td>\n",
       "    </tr>\n",
       "    <tr>\n",
       "      <th>3</th>\n",
       "      <td>4359</td>\n",
       "      <td>미부여</td>\n",
       "      <td>09.06.</td>\n",
       "      <td>도봉구</td>\n",
       "      <td>-</td>\n",
       "      <td>확인 중</td>\n",
       "      <td>NaN</td>\n",
       "    </tr>\n",
       "    <tr>\n",
       "      <th>4</th>\n",
       "      <td>4358</td>\n",
       "      <td>미부여</td>\n",
       "      <td>09.06.</td>\n",
       "      <td>강북구</td>\n",
       "      <td>-</td>\n",
       "      <td>확인 중</td>\n",
       "      <td>NaN</td>\n",
       "    </tr>\n",
       "    <tr>\n",
       "      <th>...</th>\n",
       "      <td>...</td>\n",
       "      <td>...</td>\n",
       "      <td>...</td>\n",
       "      <td>...</td>\n",
       "      <td>...</td>\n",
       "      <td>...</td>\n",
       "      <td>...</td>\n",
       "    </tr>\n",
       "    <tr>\n",
       "      <th>4357</th>\n",
       "      <td>5</td>\n",
       "      <td>9</td>\n",
       "      <td>1.31.</td>\n",
       "      <td>성북구</td>\n",
       "      <td>-</td>\n",
       "      <td>#5 접촉</td>\n",
       "      <td>퇴원</td>\n",
       "    </tr>\n",
       "    <tr>\n",
       "      <th>4358</th>\n",
       "      <td>4</td>\n",
       "      <td>7</td>\n",
       "      <td>1.30.</td>\n",
       "      <td>마포구</td>\n",
       "      <td>중국 우한시</td>\n",
       "      <td>해외 접촉</td>\n",
       "      <td>퇴원</td>\n",
       "    </tr>\n",
       "    <tr>\n",
       "      <th>4359</th>\n",
       "      <td>3</td>\n",
       "      <td>6</td>\n",
       "      <td>1.30.</td>\n",
       "      <td>종로구</td>\n",
       "      <td>-</td>\n",
       "      <td>#3 접촉</td>\n",
       "      <td>퇴원</td>\n",
       "    </tr>\n",
       "    <tr>\n",
       "      <th>4360</th>\n",
       "      <td>2</td>\n",
       "      <td>5</td>\n",
       "      <td>1.30.</td>\n",
       "      <td>중랑구</td>\n",
       "      <td>중국 우한시</td>\n",
       "      <td>해외 접촉</td>\n",
       "      <td>퇴원</td>\n",
       "    </tr>\n",
       "    <tr>\n",
       "      <th>4361</th>\n",
       "      <td>1</td>\n",
       "      <td>2</td>\n",
       "      <td>1.24.</td>\n",
       "      <td>강서구</td>\n",
       "      <td>중국 우한시</td>\n",
       "      <td>해외 접촉</td>\n",
       "      <td>퇴원</td>\n",
       "    </tr>\n",
       "  </tbody>\n",
       "</table>\n",
       "<p>4362 rows × 7 columns</p>\n",
       "</div>"
      ],
      "text/plain": [
       "        연번     환자     확진일   거주지     여행력       접촉력 퇴원현황\n",
       "0     4362  21267  09.06.   양천구       -  영등포 지인모임  NaN\n",
       "1     4361    미부여  09.06.  영등포구       -      확인 중  NaN\n",
       "2     4360    미부여  09.06.   성북구       -      확인 중  NaN\n",
       "3     4359    미부여  09.06.   도봉구       -      확인 중  NaN\n",
       "4     4358    미부여  09.06.   강북구       -      확인 중  NaN\n",
       "...    ...    ...     ...   ...     ...       ...  ...\n",
       "4357     5      9   1.31.   성북구       -     #5 접촉   퇴원\n",
       "4358     4      7   1.30.   마포구  중국 우한시     해외 접촉   퇴원\n",
       "4359     3      6   1.30.   종로구       -     #3 접촉   퇴원\n",
       "4360     2      5   1.30.   중랑구  중국 우한시     해외 접촉   퇴원\n",
       "4361     1      2   1.24.   강서구  중국 우한시     해외 접촉   퇴원\n",
       "\n",
       "[4362 rows x 7 columns]"
      ]
     },
     "execution_count": 15,
     "metadata": {},
     "output_type": "execute_result"
    }
   ],
   "source": [
    "#파일 저장 확인\n",
    "pd.read_csv(file_name)"
   ]
  },
  {
   "cell_type": "markdown",
   "metadata": {
    "colab_type": "text",
    "id": "76aWxBrr6yOC"
   },
   "source": [
    "## 시각화"
   ]
  },
  {
   "cell_type": "code",
   "execution_count": 19,
   "metadata": {},
   "outputs": [
    {
     "data": {
      "text/plain": [
       "<matplotlib.axes._subplots.AxesSubplot at 0x1d6c08f29d0>"
      ]
     },
     "execution_count": 19,
     "metadata": {},
     "output_type": "execute_result"
    },
    {
     "data": {
      "image/png": "[encoded data removed]",
      "text/plain": [
       "<Figure size 432x288 with 1 Axes>"
      ]
     },
     "metadata": {
      "needs_background": "light"
     },
     "output_type": "display_data"
    }
   ],
   "source": [
    "# 한글 폰트 설정\n",
    "# matplotlib.pyplot\n",
    "import matplotlib.pyplot as plt\n",
    "plt.rc(\"font\", family=\"Malgun Gothic\")\n",
    "#음수값 \n",
    "plt.rc(\"axes\",unicode_minus=False)\n",
    "\n",
    "pd.Series([1,3,5,-7,9]).plot.bar(title='한글제목')"
   ]
  },
  {
   "cell_type": "markdown",
   "metadata": {
    "colab": {},
    "colab_type": "code",
    "id": "YX4k2KRJ7KfC"
   },
   "source": [
    "## 확진일"
   ]
  },
  {
   "cell_type": "code",
   "execution_count": 20,
   "metadata": {},
   "outputs": [
    {
     "data": {
      "text/plain": [
       "8.26.    153\n",
       "8.18.    151\n",
       "8.27.    146\n",
       "8.15.    146\n",
       "8.22.    140\n",
       "        ... \n",
       "4.20.      1\n",
       "4.24.      1\n",
       "5.01.      1\n",
       "3.3.       1\n",
       "2.7.       1\n",
       "Name: 확진일, Length: 201, dtype: int64"
      ]
     },
     "execution_count": 20,
     "metadata": {},
     "output_type": "execute_result"
    }
   ],
   "source": [
    "# 확진일 빈도수 확인\n",
    "df[\"확진일\"].value_counts()"
   ]
  },
  {
   "cell_type": "code",
   "execution_count": 22,
   "metadata": {},
   "outputs": [
    {
     "data": {
      "text/plain": [
       "0    09.06.\n",
       "Name: 확진일, dtype: object"
      ]
     },
     "execution_count": 22,
     "metadata": {},
     "output_type": "execute_result"
    }
   ],
   "source": [
    "# '확진일'컬럼 데이터가 날짜 형태가 아닌 문자형태\n",
    "df[\"확진일\"].head(1)"
   ]
  },
  {
   "cell_type": "code",
   "execution_count": 23,
   "metadata": {},
   "outputs": [
    {
     "data": {
      "text/html": [
       "<div>\n",
       "<style scoped>\n",
       "    .dataframe tbody tr th:only-of-type {\n",
       "        vertical-align: middle;\n",
       "    }\n",
       "\n",
       "    .dataframe tbody tr th {\n",
       "        vertical-align: top;\n",
       "    }\n",
       "\n",
       "    .dataframe thead th {\n",
       "        text-align: right;\n",
       "    }\n",
       "</style>\n",
       "<table border=\"1\" class=\"dataframe\">\n",
       "  <thead>\n",
       "    <tr style=\"text-align: right;\">\n",
       "      <th></th>\n",
       "      <th>확진일</th>\n",
       "      <th>확진일자</th>\n",
       "    </tr>\n",
       "  </thead>\n",
       "  <tbody>\n",
       "    <tr>\n",
       "      <th>0</th>\n",
       "      <td>09.06.</td>\n",
       "      <td>2020-09-06</td>\n",
       "    </tr>\n",
       "    <tr>\n",
       "      <th>1</th>\n",
       "      <td>09.06.</td>\n",
       "      <td>2020-09-06</td>\n",
       "    </tr>\n",
       "    <tr>\n",
       "      <th>2</th>\n",
       "      <td>09.06.</td>\n",
       "      <td>2020-09-06</td>\n",
       "    </tr>\n",
       "    <tr>\n",
       "      <th>3</th>\n",
       "      <td>09.06.</td>\n",
       "      <td>2020-09-06</td>\n",
       "    </tr>\n",
       "    <tr>\n",
       "      <th>4</th>\n",
       "      <td>09.06.</td>\n",
       "      <td>2020-09-06</td>\n",
       "    </tr>\n",
       "  </tbody>\n",
       "</table>\n",
       "</div>"
      ],
      "text/plain": [
       "      확진일       확진일자\n",
       "0  09.06. 2020-09-06\n",
       "1  09.06. 2020-09-06\n",
       "2  09.06. 2020-09-06\n",
       "3  09.06. 2020-09-06\n",
       "4  09.06. 2020-09-06"
      ]
     },
     "execution_count": 23,
     "metadata": {},
     "output_type": "execute_result"
    }
   ],
   "source": [
    "#데이터 타입 변경: 날짜형태로\n",
    "#판다스의 to_datetime을 사용\n",
    "#연도가 없기 때문에 연도(2020) 추가, \"-\"로 날짜 연결\n",
    "\n",
    "df[\"확진일자\"]=pd.to_datetime(\"2020-\"+df[\"확진일\"].str.replace(\".\",\"-\"))\n",
    "df[[\"확진일\", \"확진일자\"]].head()"
   ]
  },
  {
   "cell_type": "code",
   "execution_count": 25,
   "metadata": {},
   "outputs": [
    {
     "data": {
      "text/html": [
       "<div>\n",
       "<style scoped>\n",
       "    .dataframe tbody tr th:only-of-type {\n",
       "        vertical-align: middle;\n",
       "    }\n",
       "\n",
       "    .dataframe tbody tr th {\n",
       "        vertical-align: top;\n",
       "    }\n",
       "\n",
       "    .dataframe thead th {\n",
       "        text-align: right;\n",
       "    }\n",
       "</style>\n",
       "<table border=\"1\" class=\"dataframe\">\n",
       "  <thead>\n",
       "    <tr style=\"text-align: right;\">\n",
       "      <th></th>\n",
       "      <th>확진일</th>\n",
       "      <th>확진일자</th>\n",
       "      <th>월</th>\n",
       "    </tr>\n",
       "  </thead>\n",
       "  <tbody>\n",
       "    <tr>\n",
       "      <th>4357</th>\n",
       "      <td>1.31.</td>\n",
       "      <td>2020-01-31</td>\n",
       "      <td>1</td>\n",
       "    </tr>\n",
       "    <tr>\n",
       "      <th>4358</th>\n",
       "      <td>1.30.</td>\n",
       "      <td>2020-01-30</td>\n",
       "      <td>1</td>\n",
       "    </tr>\n",
       "    <tr>\n",
       "      <th>4359</th>\n",
       "      <td>1.30.</td>\n",
       "      <td>2020-01-30</td>\n",
       "      <td>1</td>\n",
       "    </tr>\n",
       "    <tr>\n",
       "      <th>4360</th>\n",
       "      <td>1.30.</td>\n",
       "      <td>2020-01-30</td>\n",
       "      <td>1</td>\n",
       "    </tr>\n",
       "    <tr>\n",
       "      <th>4361</th>\n",
       "      <td>1.24.</td>\n",
       "      <td>2020-01-24</td>\n",
       "      <td>1</td>\n",
       "    </tr>\n",
       "  </tbody>\n",
       "</table>\n",
       "</div>"
      ],
      "text/plain": [
       "        확진일       확진일자  월\n",
       "4357  1.31. 2020-01-31  1\n",
       "4358  1.30. 2020-01-30  1\n",
       "4359  1.30. 2020-01-30  1\n",
       "4360  1.30. 2020-01-30  1\n",
       "4361  1.24. 2020-01-24  1"
      ]
     },
     "execution_count": 25,
     "metadata": {},
     "output_type": "execute_result"
    }
   ],
   "source": [
    "#월만 추출\n",
    "\n",
    "df[\"월\"]=df[\"확진일자\"].dt.month\n",
    "df[[\"확진일\",\"확진일자\", \"월\"]].tail()"
   ]
  },
  {
   "cell_type": "code",
   "execution_count": 26,
   "metadata": {},
   "outputs": [
    {
     "data": {
      "text/html": [
       "<div>\n",
       "<style scoped>\n",
       "    .dataframe tbody tr th:only-of-type {\n",
       "        vertical-align: middle;\n",
       "    }\n",
       "\n",
       "    .dataframe tbody tr th {\n",
       "        vertical-align: top;\n",
       "    }\n",
       "\n",
       "    .dataframe thead th {\n",
       "        text-align: right;\n",
       "    }\n",
       "</style>\n",
       "<table border=\"1\" class=\"dataframe\">\n",
       "  <thead>\n",
       "    <tr style=\"text-align: right;\">\n",
       "      <th></th>\n",
       "      <th>확진일</th>\n",
       "      <th>확진일자</th>\n",
       "      <th>월</th>\n",
       "      <th>주</th>\n",
       "    </tr>\n",
       "  </thead>\n",
       "  <tbody>\n",
       "    <tr>\n",
       "      <th>0</th>\n",
       "      <td>09.06.</td>\n",
       "      <td>2020-09-06</td>\n",
       "      <td>9</td>\n",
       "      <td>36</td>\n",
       "    </tr>\n",
       "    <tr>\n",
       "      <th>1</th>\n",
       "      <td>09.06.</td>\n",
       "      <td>2020-09-06</td>\n",
       "      <td>9</td>\n",
       "      <td>36</td>\n",
       "    </tr>\n",
       "    <tr>\n",
       "      <th>2</th>\n",
       "      <td>09.06.</td>\n",
       "      <td>2020-09-06</td>\n",
       "      <td>9</td>\n",
       "      <td>36</td>\n",
       "    </tr>\n",
       "    <tr>\n",
       "      <th>3</th>\n",
       "      <td>09.06.</td>\n",
       "      <td>2020-09-06</td>\n",
       "      <td>9</td>\n",
       "      <td>36</td>\n",
       "    </tr>\n",
       "    <tr>\n",
       "      <th>4</th>\n",
       "      <td>09.06.</td>\n",
       "      <td>2020-09-06</td>\n",
       "      <td>9</td>\n",
       "      <td>36</td>\n",
       "    </tr>\n",
       "  </tbody>\n",
       "</table>\n",
       "</div>"
      ],
      "text/plain": [
       "      확진일       확진일자  월   주\n",
       "0  09.06. 2020-09-06  9  36\n",
       "1  09.06. 2020-09-06  9  36\n",
       "2  09.06. 2020-09-06  9  36\n",
       "3  09.06. 2020-09-06  9  36\n",
       "4  09.06. 2020-09-06  9  36"
      ]
     },
     "execution_count": 26,
     "metadata": {},
     "output_type": "execute_result"
    }
   ],
   "source": [
    "# 해당 연도의 몇번째 '주'\n",
    "df[\"주\"]=df[\"확진일자\"].dt.week\n",
    "df[[\"확진일\", \"확진일자\",\"월\",\"주\"]].head()"
   ]
  },
  {
   "cell_type": "markdown",
   "metadata": {},
   "source": [
    "## 선그래프 그리기"
   ]
  },
  {
   "cell_type": "code",
   "execution_count": 30,
   "metadata": {},
   "outputs": [
    {
     "data": {
      "text/plain": [
       "<matplotlib.lines.Line2D at 0x1d6c0df9d90>"
      ]
     },
     "execution_count": 30,
     "metadata": {},
     "output_type": "execute_result"
    },
    {
     "data": {
      "image/png": "[encoded data removed]",
      "text/plain": [
       "<Figure size 1080x288 with 1 Axes>"
      ]
     },
     "metadata": {
      "needs_background": "light"
     },
     "output_type": "display_data"
    }
   ],
   "source": [
    "# 확진일자로 선그래프 그리기\n",
    "\n",
    "df[\"확진일자\"].value_counts().sort_index().plot(figsize=(15,4))\n",
    "plt.axhline(30, color=\"red\", linestyle=\":\")"
   ]
  },
  {
   "cell_type": "markdown",
   "metadata": {},
   "source": [
    "## 선 그래프에 값 표시하기"
   ]
  },
  {
   "cell_type": "code",
   "execution_count": 38,
   "metadata": {},
   "outputs": [
    {
     "data": {
      "text/plain": [
       "01-24     1\n",
       "01-30     3\n",
       "01-31     3\n",
       "02-02     1\n",
       "02-05     2\n",
       "         ..\n",
       "09-02    80\n",
       "09-03    65\n",
       "09-04    60\n",
       "09-05    46\n",
       "09-06    48\n",
       "Name: 월일, Length: 198, dtype: int64"
      ]
     },
     "execution_count": 38,
     "metadata": {},
     "output_type": "execute_result"
    }
   ],
   "source": [
    "#일자별 확진자수 선그래프로 그리기\n",
    "#연도는 모두 2020년, 월일만 표기되도록 슬라이싱해서 \"월일\"컬럼\n",
    "\n",
    "df[\"월일\"]=df[\"확진일자\"].astype(str).map(lambda x: x[5:])\n",
    "#df[\"월일\"]=df[\"확진일자\"].astype(str).map(lambda x: x[-5:])\n",
    "\n",
    "day_count=df[\"월일\"].value_counts().sort_index()\n",
    "day_count"
   ]
  },
  {
   "cell_type": "code",
   "execution_count": 46,
   "metadata": {},
   "outputs": [
    {
     "data": {
      "text/plain": [
       "26"
      ]
     },
     "execution_count": 46,
     "metadata": {},
     "output_type": "execute_result"
    }
   ],
   "source": [
    "day_count.iloc[27]"
   ]
  },
  {
   "cell_type": "code",
   "execution_count": 40,
   "metadata": {},
   "outputs": [
    {
     "name": "stdout",
     "output_type": "stream",
     "text": [
      "27 26\n",
      "28 46\n",
      "46 22\n",
      "47 22\n",
      "49 24\n",
      "95 25\n",
      "104 27\n",
      "105 29\n",
      "110 25\n",
      "111 30\n",
      "116 24\n",
      "149 21\n",
      "152 21\n",
      "172 26\n",
      "173 33\n",
      "174 73\n",
      "175 146\n",
      "176 90\n",
      "177 132\n",
      "178 151\n",
      "179 135\n",
      "180 126\n",
      "181 128\n",
      "182 140\n",
      "183 97\n",
      "184 134\n",
      "185 113\n",
      "186 153\n",
      "187 146\n",
      "188 127\n",
      "189 114\n",
      "190 95\n",
      "191 94\n",
      "192 101\n",
      "193 80\n",
      "194 65\n",
      "195 60\n",
      "196 46\n",
      "197 48\n"
     ]
    }
   ],
   "source": [
    "for i in range(len(day_count)):\n",
    "    case_count=day_count.iloc[i]\n",
    "    if case_count>20:\n",
    "        print(i,case_count)"
   ]
  },
  {
   "cell_type": "code",
   "execution_count": 45,
   "metadata": {},
   "outputs": [
    {
     "data": {
      "image/png": "[encoded data removed]",
      "text/plain": [
       "<Figure size 1080x288 with 1 Axes>"
      ]
     },
     "metadata": {
      "needs_background": "light"
     },
     "output_type": "display_data"
    }
   ],
   "source": [
    "g= day_count.plot(figsize=(15,4))\n",
    "for i in range(len(day_count)):\n",
    "    case_count = day_count.iloc[i]\n",
    "    if case_count >20:\n",
    "        g.text(x=i, y=case_count, s=case_count)\n",
    "        #s는 case_count값을 보여줌"
   ]
  },
  {
   "cell_type": "markdown",
   "metadata": {},
   "source": [
    "## 확진자가 가장 많이 나온 날"
   ]
  },
  {
   "cell_type": "code",
   "execution_count": 47,
   "metadata": {},
   "outputs": [
    {
     "data": {
      "text/plain": [
       "01-24     1\n",
       "01-30     3\n",
       "01-31     3\n",
       "02-02     1\n",
       "02-05     2\n",
       "         ..\n",
       "09-02    80\n",
       "09-03    65\n",
       "09-04    60\n",
       "09-05    46\n",
       "09-06    48\n",
       "Name: 월일, Length: 198, dtype: int64"
      ]
     },
     "execution_count": 47,
     "metadata": {},
     "output_type": "execute_result"
    }
   ],
   "source": [
    "day_count"
   ]
  },
  {
   "cell_type": "code",
   "execution_count": 48,
   "metadata": {},
   "outputs": [
    {
     "data": {
      "text/plain": [
       "count    198.000000\n",
       "mean      22.030303\n",
       "std       34.713170\n",
       "min        1.000000\n",
       "25%        5.000000\n",
       "50%        9.500000\n",
       "75%       18.000000\n",
       "max      153.000000\n",
       "Name: 월일, dtype: float64"
      ]
     },
     "execution_count": 48,
     "metadata": {},
     "output_type": "execute_result"
    }
   ],
   "source": [
    "#요약 : describe()\n",
    "day_count.describe()"
   ]
  },
  {
   "cell_type": "code",
   "execution_count": 49,
   "metadata": {},
   "outputs": [
    {
     "data": {
      "text/plain": [
       "08-26    153\n",
       "Name: 월일, dtype: int64"
      ]
     },
     "execution_count": 49,
     "metadata": {},
     "output_type": "execute_result"
    }
   ],
   "source": [
    "# 확진자가 가장 많았던 날\n",
    "day_count[day_count==day_count.max()]"
   ]
  },
  {
   "cell_type": "code",
   "execution_count": 50,
   "metadata": {},
   "outputs": [
    {
     "data": {
      "text/html": [
       "<div>\n",
       "<style scoped>\n",
       "    .dataframe tbody tr th:only-of-type {\n",
       "        vertical-align: middle;\n",
       "    }\n",
       "\n",
       "    .dataframe tbody tr th {\n",
       "        vertical-align: top;\n",
       "    }\n",
       "\n",
       "    .dataframe thead th {\n",
       "        text-align: right;\n",
       "    }\n",
       "</style>\n",
       "<table border=\"1\" class=\"dataframe\">\n",
       "  <thead>\n",
       "    <tr style=\"text-align: right;\">\n",
       "      <th></th>\n",
       "      <th>연번</th>\n",
       "      <th>환자</th>\n",
       "      <th>확진일</th>\n",
       "      <th>거주지</th>\n",
       "      <th>여행력</th>\n",
       "      <th>접촉력</th>\n",
       "      <th>퇴원현황</th>\n",
       "      <th>확진일자</th>\n",
       "      <th>월</th>\n",
       "      <th>주</th>\n",
       "      <th>월일</th>\n",
       "    </tr>\n",
       "  </thead>\n",
       "  <tbody>\n",
       "    <tr>\n",
       "      <th>976</th>\n",
       "      <td>3386</td>\n",
       "      <td>18601</td>\n",
       "      <td>8.26.</td>\n",
       "      <td>노원구</td>\n",
       "      <td>-</td>\n",
       "      <td>8.15도심집회</td>\n",
       "      <td>NaN</td>\n",
       "      <td>2020-08-26</td>\n",
       "      <td>8</td>\n",
       "      <td>35</td>\n",
       "      <td>08-26</td>\n",
       "    </tr>\n",
       "    <tr>\n",
       "      <th>977</th>\n",
       "      <td>3385</td>\n",
       "      <td>18575</td>\n",
       "      <td>8.26.</td>\n",
       "      <td>성북구</td>\n",
       "      <td>-</td>\n",
       "      <td>확인 중</td>\n",
       "      <td>NaN</td>\n",
       "      <td>2020-08-26</td>\n",
       "      <td>8</td>\n",
       "      <td>35</td>\n",
       "      <td>08-26</td>\n",
       "    </tr>\n",
       "    <tr>\n",
       "      <th>978</th>\n",
       "      <td>3384</td>\n",
       "      <td>18573</td>\n",
       "      <td>8.26.</td>\n",
       "      <td>기타</td>\n",
       "      <td>-</td>\n",
       "      <td>확인 중</td>\n",
       "      <td>NaN</td>\n",
       "      <td>2020-08-26</td>\n",
       "      <td>8</td>\n",
       "      <td>35</td>\n",
       "      <td>08-26</td>\n",
       "    </tr>\n",
       "    <tr>\n",
       "      <th>979</th>\n",
       "      <td>3383</td>\n",
       "      <td>18572</td>\n",
       "      <td>8.26.</td>\n",
       "      <td>노원구</td>\n",
       "      <td>-</td>\n",
       "      <td>확인 중</td>\n",
       "      <td>NaN</td>\n",
       "      <td>2020-08-26</td>\n",
       "      <td>8</td>\n",
       "      <td>35</td>\n",
       "      <td>08-26</td>\n",
       "    </tr>\n",
       "    <tr>\n",
       "      <th>980</th>\n",
       "      <td>3382</td>\n",
       "      <td>18568</td>\n",
       "      <td>8.26.</td>\n",
       "      <td>노원구</td>\n",
       "      <td>-</td>\n",
       "      <td>8.15도심집회</td>\n",
       "      <td>NaN</td>\n",
       "      <td>2020-08-26</td>\n",
       "      <td>8</td>\n",
       "      <td>35</td>\n",
       "      <td>08-26</td>\n",
       "    </tr>\n",
       "  </tbody>\n",
       "</table>\n",
       "</div>"
      ],
      "text/plain": [
       "       연번     환자    확진일  거주지 여행력       접촉력 퇴원현황       확진일자  월   주     월일\n",
       "976  3386  18601  8.26.  노원구   -  8.15도심집회  NaN 2020-08-26  8  35  08-26\n",
       "977  3385  18575  8.26.  성북구   -      확인 중  NaN 2020-08-26  8  35  08-26\n",
       "978  3384  18573  8.26.   기타   -      확인 중  NaN 2020-08-26  8  35  08-26\n",
       "979  3383  18572  8.26.  노원구   -      확인 중  NaN 2020-08-26  8  35  08-26\n",
       "980  3382  18568  8.26.  노원구   -  8.15도심집회  NaN 2020-08-26  8  35  08-26"
      ]
     },
     "execution_count": 50,
     "metadata": {},
     "output_type": "execute_result"
    }
   ],
   "source": [
    "# 확진자가 가장 많았던 날의 발생이력\n",
    "\n",
    "df[df[\"월일\"]==\"08-26\"].head()"
   ]
  },
  {
   "cell_type": "markdown",
   "metadata": {},
   "source": [
    "## 막대그래프 그리기"
   ]
  },
  {
   "cell_type": "code",
   "execution_count": 51,
   "metadata": {},
   "outputs": [
    {
     "data": {
      "text/plain": [
       "<matplotlib.axes._subplots.AxesSubplot at 0x1d6c0f84eb0>"
      ]
     },
     "execution_count": 51,
     "metadata": {},
     "output_type": "execute_result"
    },
    {
     "data": {
      "image/png": "[encoded data removed]",
      "text/plain": [
       "<Figure size 2160x288 with 1 Axes>"
      ]
     },
     "metadata": {
      "needs_background": "light"
     },
     "output_type": "display_data"
    }
   ],
   "source": [
    "# 위에서 선그래프로 그린 것을 막대그래프로 그리기\n",
    "\n",
    "day_count.plot.bar(figsize=(30,4))"
   ]
  },
  {
   "cell_type": "code",
   "execution_count": 55,
   "metadata": {},
   "outputs": [
    {
     "data": {
      "image/png": "[encoded data removed]",
      "text/plain": [
       "<Figure size 1080x288 with 1 Axes>"
      ]
     },
     "metadata": {
      "needs_background": "light"
     },
     "output_type": "display_data"
    }
   ],
   "source": [
    "# 최근 데이터만 슬라이싱으로 나누어 그리기\n",
    "\n",
    "g=day_count[-50:].plot.bar(figsize=(15,4))\n",
    "g.axhline(day_count.median(), linestyle=\":\", color=\"red\")\n",
    "\n",
    "for i in range(50):\n",
    "    case_count = day_count[-50:].iloc[i]\n",
    "    if case_count > 20:\n",
    "        g.text(x=i-0.5, y=case_count, s=case_count)"
   ]
  },
  {
   "cell_type": "markdown",
   "metadata": {},
   "source": [
    "## 월별 확진자 수"
   ]
  },
  {
   "cell_type": "code",
   "execution_count": 59,
   "metadata": {},
   "outputs": [
    {
     "data": {
      "image/png": "[encoded data removed]",
      "text/plain": [
       "<Figure size 432x288 with 1 Axes>"
      ]
     },
     "metadata": {
      "needs_background": "light"
     },
     "output_type": "display_data"
    }
   ],
   "source": [
    "month_case=df[\"월\"].value_counts().sort_index()\n",
    "g=month_case.plot.bar(rot=0)\n",
    "\n",
    "for i in range(len(month_case)):\n",
    "    g.text(x=i-0.2, y=month_case.iloc[i]+10, s=month_case.iloc[i])"
   ]
  },
  {
   "cell_type": "code",
   "execution_count": null,
   "metadata": {},
   "outputs": [],
   "source": []
  }
 ],
 "metadata": {
  "colab": {
   "name": "서울시코로나19.ipynb",
   "provenance": []
  },
  "kernelspec": {
   "display_name": "Python 3",
   "language": "python",
   "name": "python3"
  },
  "language_info": {
   "codemirror_mode": {
    "name": "ipython",
    "version": 3
   },
   "file_extension": ".py",
   "mimetype": "text/x-python",
   "name": "python",
   "nbconvert_exporter": "python",
   "pygments_lexer": "ipython3",
   "version": "3.8.3"
  }
 },
 "nbformat": 4,
 "nbformat_minor": 1
}
